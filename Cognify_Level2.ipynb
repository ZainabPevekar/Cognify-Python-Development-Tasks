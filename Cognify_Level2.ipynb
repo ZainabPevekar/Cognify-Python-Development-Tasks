{
 "cells": [
  {
   "cell_type": "markdown",
   "metadata": {},
   "source": [
    "Task 3: Descriptive Statistics\n",
    "\n",
    "Objective: Present basic statistics for numerical columns."
   ]
  },
  {
   "cell_type": "code",
   "execution_count": 14,
   "metadata": {},
   "outputs": [],
   "source": [
    "import pandas as pd\n",
    "import numpy as np"
   ]
  },
  {
   "cell_type": "code",
   "execution_count": 15,
   "metadata": {},
   "outputs": [],
   "source": [
    "df=pd.read_csv(\"Data_set 2 - Copy.csv\")"
   ]
  },
  {
   "cell_type": "markdown",
   "metadata": {},
   "source": [
    "Identify Numerical Columns"
   ]
  },
  {
   "cell_type": "code",
   "execution_count": 16,
   "metadata": {},
   "outputs": [
    {
     "data": {
      "text/plain": [
       "['age',\n",
       " 'Mutual_Funds',\n",
       " 'Equity_Market',\n",
       " 'Debentures',\n",
       " 'Government_Bonds',\n",
       " 'Fixed_Deposits',\n",
       " 'PPF',\n",
       " 'Gold']"
      ]
     },
     "execution_count": 16,
     "metadata": {},
     "output_type": "execute_result"
    }
   ],
   "source": [
    "numcol=[] #to view the how many column have the data type is numeric\n",
    "for i in df:\n",
    "    if df[i].dtype==\"int64\":\n",
    "        numcol.append(i)\n",
    "numcol"
   ]
  },
  {
   "cell_type": "markdown",
   "metadata": {},
   "source": [
    "Calculate the mean, median, and standard deviation for each numerical column.\n"
   ]
  },
  {
   "cell_type": "code",
   "execution_count": 17,
   "metadata": {},
   "outputs": [
    {
     "name": "stdout",
     "output_type": "stream",
     "text": [
      "Mean value for age:\n",
      "27.8\n",
      "\n",
      "Median value for age:\n",
      "27.0\n",
      "\n",
      "Standard deviation value for age:\n",
      "3.560466693696639\n"
     ]
    }
   ],
   "source": [
    "age_mean_values = df['age'].mean()\n",
    "age_median_values = df['age'].median()\n",
    "age_std_values = df['age'].std()\n",
    "\n",
    "print(\"Mean value for age:\")\n",
    "print(age_mean_values)\n",
    "print(\"\\nMedian value for age:\")\n",
    "print(age_median_values)\n",
    "print(\"\\nStandard deviation value for age:\")\n",
    "print(age_std_values)"
   ]
  },
  {
   "cell_type": "code",
   "execution_count": 18,
   "metadata": {},
   "outputs": [
    {
     "name": "stdout",
     "output_type": "stream",
     "text": [
      "Mean value for Mutual_Funds:\n",
      "2.55\n",
      "\n",
      "Median value for Mutual_Funds:\n",
      "2.0\n",
      "\n",
      "Standard deviation value for Mutual_Funds:\n",
      "1.1972189997378648\n"
     ]
    }
   ],
   "source": [
    "mf_mean_values = df['Mutual_Funds'].mean()\n",
    "mf_median_values = df['Mutual_Funds'].median()\n",
    "mf_std_values = df['Mutual_Funds'].std()\n",
    "\n",
    "print(\"Mean value for Mutual_Funds:\")\n",
    "print(mf_mean_values)\n",
    "print(\"\\nMedian value for Mutual_Funds:\")\n",
    "print(mf_median_values)\n",
    "print(\"\\nStandard deviation value for Mutual_Funds:\")\n",
    "print(mf_std_values)"
   ]
  },
  {
   "cell_type": "code",
   "execution_count": 19,
   "metadata": {},
   "outputs": [
    {
     "name": "stdout",
     "output_type": "stream",
     "text": [
      "Mean value for Equity_Market:\n",
      "3.475\n",
      "\n",
      "Median value for Equity_Market:\n",
      "4.0\n",
      "\n",
      "Standard deviation value for Equity_Market:\n",
      "1.1319939294935535\n"
     ]
    }
   ],
   "source": [
    "em_mean_values = df['Equity_Market'].mean()\n",
    "em_median_values = df['Equity_Market'].median()\n",
    "em_std_values = df['Equity_Market'].std()\n",
    "\n",
    "print(\"Mean value for Equity_Market:\")\n",
    "print(em_mean_values)\n",
    "print(\"\\nMedian value for Equity_Market:\")\n",
    "print(em_median_values)\n",
    "print(\"\\nStandard deviation value for Equity_Market:\")\n",
    "print(em_std_values)"
   ]
  },
  {
   "cell_type": "code",
   "execution_count": 20,
   "metadata": {},
   "outputs": [
    {
     "name": "stdout",
     "output_type": "stream",
     "text": [
      "Mean value for Debentures:\n",
      "5.75\n",
      "\n",
      "Median value for Debentures:\n",
      "6.5\n",
      "\n",
      "Standard deviation value for Debentures:\n",
      "1.6756169931378433\n"
     ]
    }
   ],
   "source": [
    "debt_mean_values = df['Debentures'].mean()\n",
    "debt_median_values = df['Debentures'].median()\n",
    "debt_std_values = df['Debentures'].std()\n",
    "\n",
    "print(\"Mean value for Debentures:\")\n",
    "print(debt_mean_values)\n",
    "print(\"\\nMedian value for Debentures:\")\n",
    "print(debt_median_values)\n",
    "print(\"\\nStandard deviation value for Debentures:\")\n",
    "print(debt_std_values)"
   ]
  },
  {
   "cell_type": "code",
   "execution_count": 21,
   "metadata": {},
   "outputs": [
    {
     "name": "stdout",
     "output_type": "stream",
     "text": [
      "Mean value for Government_Bonds:\n",
      "4.65\n",
      "\n",
      "Median value for Government_Bonds:\n",
      "5.0\n",
      "\n",
      "Standard deviation value for Government_Bonds:\n",
      "1.369072304284538\n"
     ]
    }
   ],
   "source": [
    "gb_mean_values = df['Government_Bonds'].mean()\n",
    "gb_median_values = df['Government_Bonds'].median()\n",
    "gb_std_values = df['Government_Bonds'].std()\n",
    "\n",
    "print(\"Mean value for Government_Bonds:\")\n",
    "print(gb_mean_values)\n",
    "print(\"\\nMedian value for Government_Bonds:\")\n",
    "print(gb_median_values)\n",
    "print(\"\\nStandard deviation value for Government_Bonds:\")\n",
    "print(gb_std_values)"
   ]
  },
  {
   "cell_type": "code",
   "execution_count": 22,
   "metadata": {},
   "outputs": [
    {
     "name": "stdout",
     "output_type": "stream",
     "text": [
      "Mean value for Fixed_Deposits:\n",
      "3.575\n",
      "\n",
      "Median value for Fixed_Deposits:\n",
      "3.5\n",
      "\n",
      "Standard deviation value for Fixed_Deposits:\n",
      "1.795828499606797\n"
     ]
    }
   ],
   "source": [
    "fd_mean_values = df['Fixed_Deposits'].mean()\n",
    "fd_median_values = df['Fixed_Deposits'].median()\n",
    "fd_std_values = df['Fixed_Deposits'].std()\n",
    "\n",
    "print(\"Mean value for Fixed_Deposits:\")\n",
    "print(fd_mean_values)\n",
    "print(\"\\nMedian value for Fixed_Deposits:\")\n",
    "print(fd_median_values)\n",
    "print(\"\\nStandard deviation value for Fixed_Deposits:\")\n",
    "print(fd_std_values)"
   ]
  },
  {
   "cell_type": "code",
   "execution_count": 23,
   "metadata": {},
   "outputs": [
    {
     "name": "stdout",
     "output_type": "stream",
     "text": [
      "Mean value for PPF:\n",
      "2.025\n",
      "\n",
      "Median value for PPF:\n",
      "1.0\n",
      "\n",
      "Standard deviation value for PPF:\n",
      "1.6090688500193409\n"
     ]
    }
   ],
   "source": [
    "ppf_mean_values = df['PPF'].mean()\n",
    "ppf_median_values = df['PPF'].median()\n",
    "ppf_std_values = df['PPF'].std()\n",
    "\n",
    "print(\"Mean value for PPF:\")\n",
    "print(ppf_mean_values)\n",
    "print(\"\\nMedian value for PPF:\")\n",
    "print(ppf_median_values)\n",
    "print(\"\\nStandard deviation value for PPF:\")\n",
    "print(ppf_std_values)"
   ]
  },
  {
   "cell_type": "code",
   "execution_count": 24,
   "metadata": {},
   "outputs": [
    {
     "name": "stdout",
     "output_type": "stream",
     "text": [
      "Mean value for Gold:\n",
      "5.975\n",
      "\n",
      "Median value for Gold:\n",
      "6.0\n",
      "\n",
      "Standard deviation value for Gold:\n",
      "1.1432634351063984\n"
     ]
    }
   ],
   "source": [
    "gold_mean_values = df['Gold'].mean()\n",
    "gold_median_values = df['Gold'].median()\n",
    "gold_std_values = df['Gold'].std()\n",
    "\n",
    "print(\"Mean value for Gold:\")\n",
    "print(gold_mean_values)\n",
    "print(\"\\nMedian value for Gold:\")\n",
    "print(gold_median_values)\n",
    "print(\"\\nStandard deviation value for Gold:\")\n",
    "print(gold_std_values)"
   ]
  },
  {
   "cell_type": "markdown",
   "metadata": {},
   "source": [
    "Task 4: Most Preferred Investment Avenue \n",
    "\n",
    "Objective: Identify the most preferred investment avenue."
   ]
  },
  {
   "cell_type": "markdown",
   "metadata": {},
   "source": [
    "1. Analyze Investment Avenues: "
   ]
  },
  {
   "cell_type": "code",
   "execution_count": 25,
   "metadata": {},
   "outputs": [
    {
     "data": {
      "text/plain": [
       "Avenue\n",
       "Mutual Fund              18\n",
       "Equity                   10\n",
       "Fixed Deposits            9\n",
       "Public Provident Fund     3\n",
       "Name: count, dtype: int64"
      ]
     },
     "execution_count": 25,
     "metadata": {},
     "output_type": "execute_result"
    }
   ],
   "source": [
    "investment_counts = df['Avenue'].value_counts()\n",
    "investment_counts"
   ]
  },
  {
   "cell_type": "markdown",
   "metadata": {},
   "source": [
    "2. Frequency Analysis:"
   ]
  },
  {
   "cell_type": "code",
   "execution_count": 26,
   "metadata": {},
   "outputs": [
    {
     "data": {
      "text/plain": [
       "'Mutual Fund'"
      ]
     },
     "execution_count": 26,
     "metadata": {},
     "output_type": "execute_result"
    }
   ],
   "source": [
    "max_frequency_investment = investment_counts.idxmax()\n",
    "max_frequency_investment"
   ]
  },
  {
   "cell_type": "code",
   "execution_count": null,
   "metadata": {},
   "outputs": [],
   "source": []
  }
 ],
 "metadata": {
  "kernelspec": {
   "display_name": "Python 3",
   "language": "python",
   "name": "python3"
  },
  "language_info": {
   "codemirror_mode": {
    "name": "ipython",
    "version": 3
   },
   "file_extension": ".py",
   "mimetype": "text/x-python",
   "name": "python",
   "nbconvert_exporter": "python",
   "pygments_lexer": "ipython3",
   "version": "3.12.0"
  }
 },
 "nbformat": 4,
 "nbformat_minor": 2
}
