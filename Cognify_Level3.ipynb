{
 "cells": [
  {
   "cell_type": "markdown",
   "metadata": {},
   "source": [
    " Task 5: Reasons for Investment \n",
    "\n",
    "Objective: Analyze and summarize reasonsfor investment choices."
   ]
  },
  {
   "cell_type": "code",
   "execution_count": 1,
   "metadata": {},
   "outputs": [],
   "source": [
    "import pandas as pd\n",
    "from collections import Counter"
   ]
  },
  {
   "cell_type": "code",
   "execution_count": 2,
   "metadata": {},
   "outputs": [],
   "source": [
    "df=pd.read_csv(\"Data_set 2 - Copy.csv\")"
   ]
  },
  {
   "cell_type": "code",
   "execution_count": 3,
   "metadata": {},
   "outputs": [
    {
     "name": "stdout",
     "output_type": "stream",
     "text": [
      "Reason: Capital Appreciation, Count: 30\n",
      "Reason: Assured Returns, Count: 26\n",
      "Reason: Better Returns, Count: 24\n",
      "Reason: Risk Free, Count: 19\n",
      "Reason: Fixed Returns, Count: 18\n",
      "Reason: Fund Diversification, Count: 13\n",
      "Reason: Safe Investment, Count: 13\n",
      "Reason: Dividend, Count: 8\n",
      "Reason: Tax Benefits, Count: 3\n",
      "Reason: High Interest Rates, Count: 3\n",
      "Reason: Liquidity, Count: 2\n",
      "Reason: Tax Incentives, Count: 1\n"
     ]
    }
   ],
   "source": [
    "\n",
    "# List of columns that contain reasons\n",
    "reason_columns = ['Reason_Equity', 'Reason_Mutual', 'Reason_Bonds', 'Reason_FD']\n",
    "\n",
    "# Initialize a Counter object to store the frequency of each reason\n",
    "reason_counter = Counter()\n",
    "\n",
    "# Iterate over the reason columns\n",
    "for column in reason_columns:\n",
    "    # Drop any missing values from the column\n",
    "    reasons = df[column].dropna()\n",
    "    \n",
    "    # Update the counter with the reasons in this column\n",
    "    reason_counter.update(reasons)\n",
    "\n",
    "# Print the most common reasons for investment choices\n",
    "for reason, count in reason_counter.most_common():\n",
    "    print(f'Reason: {reason}, Count: {count}')"
   ]
  },
  {
   "cell_type": "markdown",
   "metadata": {},
   "source": [
    "While return on investment and risk management are the most common themes, investors have a variety of reasons for their investment choices, including diversification, income, tax benefits, interest rates, and liquidity."
   ]
  },
  {
   "cell_type": "markdown",
   "metadata": {},
   "source": [
    "Task 6: Savings Objectives\n",
    "\n",
    "Objective: Identify and present main savings objectives."
   ]
  },
  {
   "cell_type": "code",
   "execution_count": 4,
   "metadata": {},
   "outputs": [
    {
     "name": "stdout",
     "output_type": "stream",
     "text": [
      "Objective: Retirement Plan, Count: 24\n",
      "Objective: Health Care, Count: 13\n",
      "Objective: Education, Count: 3\n"
     ]
    }
   ],
   "source": [
    "# Column that contains savings objectives\n",
    "objective_column = 'What are your savings objectives?'\n",
    "\n",
    "# Drop any missing values from the column\n",
    "objectives = df[objective_column].dropna()\n",
    "\n",
    "# Initialize a Counter object to store the frequency of each objective\n",
    "objective_counter = Counter()\n",
    "\n",
    "# Update the counter with the objectives\n",
    "objective_counter.update(objectives)\n",
    "\n",
    "# Print the most common savings objectives\n",
    "for objective, count in objective_counter.most_common():\n",
    "    print(f'Objective: {objective}, Count: {count}')"
   ]
  },
  {
   "cell_type": "markdown",
   "metadata": {},
   "source": [
    "While retirement and health care are the most common savings objectives, a small number of participants are also saving for education purposes."
   ]
  },
  {
   "cell_type": "code",
   "execution_count": null,
   "metadata": {},
   "outputs": [],
   "source": []
  }
 ],
 "metadata": {
  "kernelspec": {
   "display_name": "Python 3",
   "language": "python",
   "name": "python3"
  },
  "language_info": {
   "codemirror_mode": {
    "name": "ipython",
    "version": 3
   },
   "file_extension": ".py",
   "mimetype": "text/x-python",
   "name": "python",
   "nbconvert_exporter": "python",
   "pygments_lexer": "ipython3",
   "version": "3.12.0"
  }
 },
 "nbformat": 4,
 "nbformat_minor": 2
}
