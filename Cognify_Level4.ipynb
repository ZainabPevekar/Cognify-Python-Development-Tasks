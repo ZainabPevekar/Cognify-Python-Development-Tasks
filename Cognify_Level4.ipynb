{
 "cells": [
  {
   "cell_type": "markdown",
   "metadata": {},
   "source": [
    "Task 7: Common Information Sources\n",
    " \n",
    "Objective: Analyze common sources participants rely on for investment information."
   ]
  },
  {
   "cell_type": "code",
   "execution_count": 1,
   "metadata": {},
   "outputs": [],
   "source": [
    "import pandas as pd\n",
    "from collections import Counter"
   ]
  },
  {
   "cell_type": "code",
   "execution_count": 2,
   "metadata": {},
   "outputs": [],
   "source": [
    "df=pd.read_csv(\"Data_set 2 - Copy.csv\")"
   ]
  },
  {
   "cell_type": "code",
   "execution_count": 3,
   "metadata": {},
   "outputs": [
    {
     "name": "stdout",
     "output_type": "stream",
     "text": [
      "Source: Financial Consultants, Count: 16\n",
      "Source: Newspapers and Magazines, Count: 14\n",
      "Source: Television, Count: 6\n",
      "Source: Internet, Count: 4\n"
     ]
    }
   ],
   "source": [
    "# Column that contains sources of investment information\n",
    "source_column = 'Source'\n",
    "\n",
    "# Drop any missing values from the column\n",
    "sources = df[source_column].dropna()\n",
    "\n",
    "# Initialize a Counter object to store the frequency of each source\n",
    "source_counter = Counter()\n",
    "\n",
    "# Update the counter with the sources\n",
    "source_counter.update(sources)\n",
    "\n",
    "# Print the most common sources of investment information\n",
    "for source, count in source_counter.most_common():\n",
    "    print(f'Source: {source}, Count: {count}')"
   ]
  },
  {
   "cell_type": "markdown",
   "metadata": {},
   "source": [
    "While financial consultants are the most common source of investment information, participants also rely on a mix of traditional media (newspapers, magazines, and television) and digital media (the Internet)."
   ]
  },
  {
   "cell_type": "code",
   "execution_count": null,
   "metadata": {},
   "outputs": [],
   "source": []
  }
 ],
 "metadata": {
  "kernelspec": {
   "display_name": "Python 3",
   "language": "python",
   "name": "python3"
  },
  "language_info": {
   "codemirror_mode": {
    "name": "ipython",
    "version": 3
   },
   "file_extension": ".py",
   "mimetype": "text/x-python",
   "name": "python",
   "nbconvert_exporter": "python",
   "pygments_lexer": "ipython3",
   "version": "3.12.0"
  }
 },
 "nbformat": 4,
 "nbformat_minor": 2
}
